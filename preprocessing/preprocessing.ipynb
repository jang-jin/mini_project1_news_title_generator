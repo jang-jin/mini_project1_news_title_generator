{
 "metadata": {
  "language_info": {
   "codemirror_mode": {
    "name": "ipython",
    "version": 3
   },
   "file_extension": ".py",
   "mimetype": "text/x-python",
   "name": "python",
   "nbconvert_exporter": "python",
   "pygments_lexer": "ipython3",
   "version": "3.8.3-final"
  },
  "orig_nbformat": 2,
  "kernelspec": {
   "name": "python_defaultSpec_1598593465077",
   "display_name": "Python 3.8.3 32-bit"
  }
 },
 "nbformat": 4,
 "nbformat_minor": 2,
 "cells": [
  {
   "cell_type": "code",
   "execution_count": 2,
   "metadata": {},
   "outputs": [],
   "source": [
    "import numpy as np\n",
    "import pandas as pd"
   ]
  },
  {
   "cell_type": "markdown",
   "metadata": {},
   "source": [
    "데이터 통합"
   ]
  },
  {
   "cell_type": "code",
   "execution_count": 19,
   "metadata": {
    "tags": []
   },
   "outputs": [
    {
     "output_type": "stream",
     "name": "stdout",
     "text": "(18209, 3)\n"
    },
    {
     "output_type": "execute_result",
     "data": {
      "text/plain": "          0                                 1  \\\n0  20200826                미국 최초로 GM 모기 살포 실험   \n1  20200826                  공룡도 척추 디스크로 고생했다   \n2  20200826     투명 고분자 물질 레이저로 초고속 가공하는 기술 개발   \n3  20200825  기초지원연, 물속 중금속 흡착 철산화물 나노입자 섬유 개발   \n4  20200824  산업부, 중기 개발한 소재부품장비 양산 위한 성능평가 지원   \n\n                                                   2  \n0  미국 남부, 플로리다 주에 길이 약 240km의 산호초 군도가 있다. 플로리다키스 ...  \n1  척추 디스크는 현대인에게서 가장 많이 발생하는 질환 중 하나다. 국민건강보험공단 등...  \n2  한국연구재단은 서울대 고승환·전누리 교수 연구팀이 투명 물질인 ‘폴리디메틸실록산'(...  \n3  한국기초과학지원연구원은 박종배 박사 연구팀이 물속 중금속을 흡착할 수 있는 철산화물...  \n4  산업통상자원부는 ‘2020년도 소재·부품·장비(소부장) 양산 성능평가 지원사업’을 ...  ",
      "text/html": "<div>\n<style scoped>\n    .dataframe tbody tr th:only-of-type {\n        vertical-align: middle;\n    }\n\n    .dataframe tbody tr th {\n        vertical-align: top;\n    }\n\n    .dataframe thead th {\n        text-align: right;\n    }\n</style>\n<table border=\"1\" class=\"dataframe\">\n  <thead>\n    <tr style=\"text-align: right;\">\n      <th></th>\n      <th>0</th>\n      <th>1</th>\n      <th>2</th>\n    </tr>\n  </thead>\n  <tbody>\n    <tr>\n      <th>0</th>\n      <td>20200826</td>\n      <td>미국 최초로 GM 모기 살포 실험</td>\n      <td>미국 남부, 플로리다 주에 길이 약 240km의 산호초 군도가 있다. 플로리다키스 ...</td>\n    </tr>\n    <tr>\n      <th>1</th>\n      <td>20200826</td>\n      <td>공룡도 척추 디스크로 고생했다</td>\n      <td>척추 디스크는 현대인에게서 가장 많이 발생하는 질환 중 하나다. 국민건강보험공단 등...</td>\n    </tr>\n    <tr>\n      <th>2</th>\n      <td>20200826</td>\n      <td>투명 고분자 물질 레이저로 초고속 가공하는 기술 개발</td>\n      <td>한국연구재단은 서울대 고승환·전누리 교수 연구팀이 투명 물질인 ‘폴리디메틸실록산'(...</td>\n    </tr>\n    <tr>\n      <th>3</th>\n      <td>20200825</td>\n      <td>기초지원연, 물속 중금속 흡착 철산화물 나노입자 섬유 개발</td>\n      <td>한국기초과학지원연구원은 박종배 박사 연구팀이 물속 중금속을 흡착할 수 있는 철산화물...</td>\n    </tr>\n    <tr>\n      <th>4</th>\n      <td>20200824</td>\n      <td>산업부, 중기 개발한 소재부품장비 양산 위한 성능평가 지원</td>\n      <td>산업통상자원부는 ‘2020년도 소재·부품·장비(소부장) 양산 성능평가 지원사업’을 ...</td>\n    </tr>\n  </tbody>\n</table>\n</div>"
     },
     "metadata": {},
     "execution_count": 19
    }
   ],
   "source": [
    "thesciencetimes = pd.read_csv('thesciencetimes.csv', header=None)\n",
    "print(thesciencetimes.shape)\n",
    "thesciencetimes.head()"
   ]
  },
  {
   "cell_type": "code",
   "execution_count": 20,
   "metadata": {
    "tags": []
   },
   "outputs": [
    {
     "output_type": "stream",
     "name": "stdout",
     "text": "(18193, 3)\n"
    },
    {
     "output_type": "execute_result",
     "data": {
      "text/plain": "          0                                 1  \\\n0  20200826                미국 최초로 GM 모기 살포 실험   \n1  20200826                  공룡도 척추 디스크로 고생했다   \n2  20200826     투명 고분자 물질 레이저로 초고속 가공하는 기술 개발   \n3  20200825  기초지원연, 물속 중금속 흡착 철산화물 나노입자 섬유 개발   \n4  20200824  산업부, 중기 개발한 소재부품장비 양산 위한 성능평가 지원   \n\n                                                   2  \n0  미국 남부, 플로리다 주에 길이 약 240km의 산호초 군도가 있다. 플로리다키스 ...  \n1  척추 디스크는 현대인에게서 가장 많이 발생하는 질환 중 하나다. 국민건강보험공단 등...  \n2  한국연구재단은 서울대 고승환·전누리 교수 연구팀이 투명 물질인 ‘폴리디메틸실록산'(...  \n3  한국기초과학지원연구원은 박종배 박사 연구팀이 물속 중금속을 흡착할 수 있는 철산화물...  \n4  산업통상자원부는 ‘2020년도 소재·부품·장비(소부장) 양산 성능평가 지원사업’을 ...  ",
      "text/html": "<div>\n<style scoped>\n    .dataframe tbody tr th:only-of-type {\n        vertical-align: middle;\n    }\n\n    .dataframe tbody tr th {\n        vertical-align: top;\n    }\n\n    .dataframe thead th {\n        text-align: right;\n    }\n</style>\n<table border=\"1\" class=\"dataframe\">\n  <thead>\n    <tr style=\"text-align: right;\">\n      <th></th>\n      <th>0</th>\n      <th>1</th>\n      <th>2</th>\n    </tr>\n  </thead>\n  <tbody>\n    <tr>\n      <th>0</th>\n      <td>20200826</td>\n      <td>미국 최초로 GM 모기 살포 실험</td>\n      <td>미국 남부, 플로리다 주에 길이 약 240km의 산호초 군도가 있다. 플로리다키스 ...</td>\n    </tr>\n    <tr>\n      <th>1</th>\n      <td>20200826</td>\n      <td>공룡도 척추 디스크로 고생했다</td>\n      <td>척추 디스크는 현대인에게서 가장 많이 발생하는 질환 중 하나다. 국민건강보험공단 등...</td>\n    </tr>\n    <tr>\n      <th>2</th>\n      <td>20200826</td>\n      <td>투명 고분자 물질 레이저로 초고속 가공하는 기술 개발</td>\n      <td>한국연구재단은 서울대 고승환·전누리 교수 연구팀이 투명 물질인 ‘폴리디메틸실록산'(...</td>\n    </tr>\n    <tr>\n      <th>3</th>\n      <td>20200825</td>\n      <td>기초지원연, 물속 중금속 흡착 철산화물 나노입자 섬유 개발</td>\n      <td>한국기초과학지원연구원은 박종배 박사 연구팀이 물속 중금속을 흡착할 수 있는 철산화물...</td>\n    </tr>\n    <tr>\n      <th>4</th>\n      <td>20200824</td>\n      <td>산업부, 중기 개발한 소재부품장비 양산 위한 성능평가 지원</td>\n      <td>산업통상자원부는 ‘2020년도 소재·부품·장비(소부장) 양산 성능평가 지원사업’을 ...</td>\n    </tr>\n  </tbody>\n</table>\n</div>"
     },
     "metadata": {},
     "execution_count": 20
    }
   ],
   "source": [
    "# 본문 결측치 제거\n",
    "thesciencetimes.dropna(inplace=True)\n",
    "print(thesciencetimes.shape)\n",
    "thesciencetimes.head()"
   ]
  },
  {
   "cell_type": "code",
   "execution_count": 23,
   "metadata": {
    "tags": []
   },
   "outputs": [
    {
     "output_type": "stream",
     "name": "stdout",
     "text": "(15328, 3)\n"
    },
    {
     "output_type": "execute_result",
     "data": {
      "text/plain": "          0                                 1  \\\n0  20200826                미국 최초로 GM 모기 살포 실험   \n1  20200826                  공룡도 척추 디스크로 고생했다   \n2  20200826     투명 고분자 물질 레이저로 초고속 가공하는 기술 개발   \n3  20200825  기초지원연, 물속 중금속 흡착 철산화물 나노입자 섬유 개발   \n4  20200824  산업부, 중기 개발한 소재부품장비 양산 위한 성능평가 지원   \n\n                                                   2  \n0  미국 남부, 플로리다 주에 길이 약 240km의 산호초 군도가 있다. 플로리다키스 ...  \n1  척추 디스크는 현대인에게서 가장 많이 발생하는 질환 중 하나다. 국민건강보험공단 등...  \n2  한국연구재단은 서울대 고승환·전누리 교수 연구팀이 투명 물질인 ‘폴리디메틸실록산'(...  \n3  한국기초과학지원연구원은 박종배 박사 연구팀이 물속 중금속을 흡착할 수 있는 철산화물...  \n4  산업통상자원부는 ‘2020년도 소재·부품·장비(소부장) 양산 성능평가 지원사업’을 ...  ",
      "text/html": "<div>\n<style scoped>\n    .dataframe tbody tr th:only-of-type {\n        vertical-align: middle;\n    }\n\n    .dataframe tbody tr th {\n        vertical-align: top;\n    }\n\n    .dataframe thead th {\n        text-align: right;\n    }\n</style>\n<table border=\"1\" class=\"dataframe\">\n  <thead>\n    <tr style=\"text-align: right;\">\n      <th></th>\n      <th>0</th>\n      <th>1</th>\n      <th>2</th>\n    </tr>\n  </thead>\n  <tbody>\n    <tr>\n      <th>0</th>\n      <td>20200826</td>\n      <td>미국 최초로 GM 모기 살포 실험</td>\n      <td>미국 남부, 플로리다 주에 길이 약 240km의 산호초 군도가 있다. 플로리다키스 ...</td>\n    </tr>\n    <tr>\n      <th>1</th>\n      <td>20200826</td>\n      <td>공룡도 척추 디스크로 고생했다</td>\n      <td>척추 디스크는 현대인에게서 가장 많이 발생하는 질환 중 하나다. 국민건강보험공단 등...</td>\n    </tr>\n    <tr>\n      <th>2</th>\n      <td>20200826</td>\n      <td>투명 고분자 물질 레이저로 초고속 가공하는 기술 개발</td>\n      <td>한국연구재단은 서울대 고승환·전누리 교수 연구팀이 투명 물질인 ‘폴리디메틸실록산'(...</td>\n    </tr>\n    <tr>\n      <th>3</th>\n      <td>20200825</td>\n      <td>기초지원연, 물속 중금속 흡착 철산화물 나노입자 섬유 개발</td>\n      <td>한국기초과학지원연구원은 박종배 박사 연구팀이 물속 중금속을 흡착할 수 있는 철산화물...</td>\n    </tr>\n    <tr>\n      <th>4</th>\n      <td>20200824</td>\n      <td>산업부, 중기 개발한 소재부품장비 양산 위한 성능평가 지원</td>\n      <td>산업통상자원부는 ‘2020년도 소재·부품·장비(소부장) 양산 성능평가 지원사업’을 ...</td>\n    </tr>\n  </tbody>\n</table>\n</div>"
     },
     "metadata": {},
     "execution_count": 23
    }
   ],
   "source": [
    "# 기사 중복 제거\n",
    "thesciencetimes.drop_duplicates(1, keep='first', inplace=True)\n",
    "print(thesciencetimes.shape)\n",
    "thesciencetimes.head()"
   ]
  },
  {
   "cell_type": "code",
   "execution_count": 35,
   "metadata": {
    "tags": []
   },
   "outputs": [
    {
     "output_type": "stream",
     "name": "stdout",
     "text": "(15328, 3)\n"
    },
    {
     "output_type": "execute_result",
     "data": {
      "text/plain": "          0                                 1  \\\n0  20200826                미국 최초로 GM 모기 살포 실험   \n1  20200826                  공룡도 척추 디스크로 고생했다   \n2  20200826     투명 고분자 물질 레이저로 초고속 가공하는 기술 개발   \n3  20200825  기초지원연, 물속 중금속 흡착 철산화물 나노입자 섬유 개발   \n4  20200824  산업부, 중기 개발한 소재부품장비 양산 위한 성능평가 지원   \n\n                                                   2  \n0  미국 남부, 플로리다 주에 길이 약 240km의 산호초 군도가 있다. 플로리다키스 ...  \n1  척추 디스크는 현대인에게서 가장 많이 발생하는 질환 중 하나다. 국민건강보험공단 등...  \n2  한국연구재단은 서울대 고승환·전누리 교수 연구팀이 투명 물질인 ‘폴리디메틸실록산'(...  \n3  한국기초과학지원연구원은 박종배 박사 연구팀이 물속 중금속을 흡착할 수 있는 철산화물...  \n4  산업통상자원부는 ‘2020년도 소재·부품·장비(소부장) 양산 성능평가 지원사업’을 ...  ",
      "text/html": "<div>\n<style scoped>\n    .dataframe tbody tr th:only-of-type {\n        vertical-align: middle;\n    }\n\n    .dataframe tbody tr th {\n        vertical-align: top;\n    }\n\n    .dataframe thead th {\n        text-align: right;\n    }\n</style>\n<table border=\"1\" class=\"dataframe\">\n  <thead>\n    <tr style=\"text-align: right;\">\n      <th></th>\n      <th>0</th>\n      <th>1</th>\n      <th>2</th>\n    </tr>\n  </thead>\n  <tbody>\n    <tr>\n      <th>0</th>\n      <td>20200826</td>\n      <td>미국 최초로 GM 모기 살포 실험</td>\n      <td>미국 남부, 플로리다 주에 길이 약 240km의 산호초 군도가 있다. 플로리다키스 ...</td>\n    </tr>\n    <tr>\n      <th>1</th>\n      <td>20200826</td>\n      <td>공룡도 척추 디스크로 고생했다</td>\n      <td>척추 디스크는 현대인에게서 가장 많이 발생하는 질환 중 하나다. 국민건강보험공단 등...</td>\n    </tr>\n    <tr>\n      <th>2</th>\n      <td>20200826</td>\n      <td>투명 고분자 물질 레이저로 초고속 가공하는 기술 개발</td>\n      <td>한국연구재단은 서울대 고승환·전누리 교수 연구팀이 투명 물질인 ‘폴리디메틸실록산'(...</td>\n    </tr>\n    <tr>\n      <th>3</th>\n      <td>20200825</td>\n      <td>기초지원연, 물속 중금속 흡착 철산화물 나노입자 섬유 개발</td>\n      <td>한국기초과학지원연구원은 박종배 박사 연구팀이 물속 중금속을 흡착할 수 있는 철산화물...</td>\n    </tr>\n    <tr>\n      <th>4</th>\n      <td>20200824</td>\n      <td>산업부, 중기 개발한 소재부품장비 양산 위한 성능평가 지원</td>\n      <td>산업통상자원부는 ‘2020년도 소재·부품·장비(소부장) 양산 성능평가 지원사업’을 ...</td>\n    </tr>\n  </tbody>\n</table>\n</div>"
     },
     "metadata": {},
     "execution_count": 35
    }
   ],
   "source": [
    "# \\n 제거, 띄어쓰기 한칸으로 통일\n",
    "thesciencetimes[2] = thesciencetimes[2].str.replace('\\n', ' ').str.replace(' +', ' ')\n",
    "print(thesciencetimes.shape)\n",
    "thesciencetimes.head()"
   ]
  },
  {
   "cell_type": "code",
   "execution_count": 51,
   "metadata": {},
   "outputs": [],
   "source": [
    "thesciencetimes.to_csv('p_thesciencetimes.csv', header=False, index=False)"
   ]
  },
  {
   "cell_type": "code",
   "execution_count": 37,
   "metadata": {
    "tags": []
   },
   "outputs": [
    {
     "output_type": "stream",
     "name": "stdout",
     "text": "(12827, 3)\n"
    },
    {
     "output_type": "execute_result",
     "data": {
      "text/plain": "          0                   1  \\\n0  20100102   올해 쇄빙선 아라온호 남극 탐험   \n1  20100102   올해 쇄빙선 아라온호 남극 탐험   \n2  20100103       겨울철 노인 낙상 치명적   \n3  20100104  ‘유전자가위’ 에이즈 치료법 개발   \n4  20100104  KT, 올해 ‘무궁화 6호’ 발사   \n\n                                                   2  \n0                                                NaN  \n1  <앵커 멘트>\\r  올해는 우리 나라가 남극 대륙을 처음으로 탐사하는 해입니다.\\r...  \n2  <앵커 멘트>; 요즘 길을 걷다보면 미끄러질까봐 조심 조심 걷는 분들 많으실텐데요....  \n3  보통 사람들은 면역세포 막에 'CCR5' 단백질을 갖고 있고 이 단백질이 에이즈바이...  \n4  KT가 올해 무궁화위성 6호를 발사할 계획입니다.\\r   KT는 이르면 6월쯤 남미...  ",
      "text/html": "<div>\n<style scoped>\n    .dataframe tbody tr th:only-of-type {\n        vertical-align: middle;\n    }\n\n    .dataframe tbody tr th {\n        vertical-align: top;\n    }\n\n    .dataframe thead th {\n        text-align: right;\n    }\n</style>\n<table border=\"1\" class=\"dataframe\">\n  <thead>\n    <tr style=\"text-align: right;\">\n      <th></th>\n      <th>0</th>\n      <th>1</th>\n      <th>2</th>\n    </tr>\n  </thead>\n  <tbody>\n    <tr>\n      <th>0</th>\n      <td>20100102</td>\n      <td>올해 쇄빙선 아라온호 남극 탐험</td>\n      <td>NaN</td>\n    </tr>\n    <tr>\n      <th>1</th>\n      <td>20100102</td>\n      <td>올해 쇄빙선 아라온호 남극 탐험</td>\n      <td>&lt;앵커 멘트&gt;\\r  올해는 우리 나라가 남극 대륙을 처음으로 탐사하는 해입니다.\\r...</td>\n    </tr>\n    <tr>\n      <th>2</th>\n      <td>20100103</td>\n      <td>겨울철 노인 낙상 치명적</td>\n      <td>&lt;앵커 멘트&gt;; 요즘 길을 걷다보면 미끄러질까봐 조심 조심 걷는 분들 많으실텐데요....</td>\n    </tr>\n    <tr>\n      <th>3</th>\n      <td>20100104</td>\n      <td>‘유전자가위’ 에이즈 치료법 개발</td>\n      <td>보통 사람들은 면역세포 막에 'CCR5' 단백질을 갖고 있고 이 단백질이 에이즈바이...</td>\n    </tr>\n    <tr>\n      <th>4</th>\n      <td>20100104</td>\n      <td>KT, 올해 ‘무궁화 6호’ 발사</td>\n      <td>KT가 올해 무궁화위성 6호를 발사할 계획입니다.\\r   KT는 이르면 6월쯤 남미...</td>\n    </tr>\n  </tbody>\n</table>\n</div>"
     },
     "metadata": {},
     "execution_count": 37
    }
   ],
   "source": [
    "kbsnews = pd.read_csv('kbsnews.csv', header=None)\n",
    "print(kbsnews.shape)\n",
    "kbsnews.head()"
   ]
  },
  {
   "cell_type": "code",
   "execution_count": 39,
   "metadata": {
    "tags": []
   },
   "outputs": [
    {
     "output_type": "stream",
     "name": "stdout",
     "text": "(11940, 3)\n"
    },
    {
     "output_type": "execute_result",
     "data": {
      "text/plain": "          0                      1  \\\n1  20100102      올해 쇄빙선 아라온호 남극 탐험   \n2  20100103          겨울철 노인 낙상 치명적   \n3  20100104     ‘유전자가위’ 에이즈 치료법 개발   \n4  20100104     KT, 올해 ‘무궁화 6호’ 발사   \n5  20100104  춥고 눈 오는 날…관절염환자 운동 요령   \n\n                                                   2  \n1  <앵커 멘트>\\r  올해는 우리 나라가 남극 대륙을 처음으로 탐사하는 해입니다.\\r...  \n2  <앵커 멘트>; 요즘 길을 걷다보면 미끄러질까봐 조심 조심 걷는 분들 많으실텐데요....  \n3  보통 사람들은 면역세포 막에 'CCR5' 단백질을 갖고 있고 이 단백질이 에이즈바이...  \n4  KT가 올해 무궁화위성 6호를 발사할 계획입니다.\\r   KT는 이르면 6월쯤 남미...  \n5  날씨가 갑자기 추워지고, 폭설이 내리면서 관절염 환자들이 겪는 바깥나들이의 고통이 ...  ",
      "text/html": "<div>\n<style scoped>\n    .dataframe tbody tr th:only-of-type {\n        vertical-align: middle;\n    }\n\n    .dataframe tbody tr th {\n        vertical-align: top;\n    }\n\n    .dataframe thead th {\n        text-align: right;\n    }\n</style>\n<table border=\"1\" class=\"dataframe\">\n  <thead>\n    <tr style=\"text-align: right;\">\n      <th></th>\n      <th>0</th>\n      <th>1</th>\n      <th>2</th>\n    </tr>\n  </thead>\n  <tbody>\n    <tr>\n      <th>1</th>\n      <td>20100102</td>\n      <td>올해 쇄빙선 아라온호 남극 탐험</td>\n      <td>&lt;앵커 멘트&gt;\\r  올해는 우리 나라가 남극 대륙을 처음으로 탐사하는 해입니다.\\r...</td>\n    </tr>\n    <tr>\n      <th>2</th>\n      <td>20100103</td>\n      <td>겨울철 노인 낙상 치명적</td>\n      <td>&lt;앵커 멘트&gt;; 요즘 길을 걷다보면 미끄러질까봐 조심 조심 걷는 분들 많으실텐데요....</td>\n    </tr>\n    <tr>\n      <th>3</th>\n      <td>20100104</td>\n      <td>‘유전자가위’ 에이즈 치료법 개발</td>\n      <td>보통 사람들은 면역세포 막에 'CCR5' 단백질을 갖고 있고 이 단백질이 에이즈바이...</td>\n    </tr>\n    <tr>\n      <th>4</th>\n      <td>20100104</td>\n      <td>KT, 올해 ‘무궁화 6호’ 발사</td>\n      <td>KT가 올해 무궁화위성 6호를 발사할 계획입니다.\\r   KT는 이르면 6월쯤 남미...</td>\n    </tr>\n    <tr>\n      <th>5</th>\n      <td>20100104</td>\n      <td>춥고 눈 오는 날…관절염환자 운동 요령</td>\n      <td>날씨가 갑자기 추워지고, 폭설이 내리면서 관절염 환자들이 겪는 바깥나들이의 고통이 ...</td>\n    </tr>\n  </tbody>\n</table>\n</div>"
     },
     "metadata": {},
     "execution_count": 39
    }
   ],
   "source": [
    "# 본문 결측치 제거\n",
    "kbsnews.dropna(inplace=True)\n",
    "print(kbsnews.shape)\n",
    "kbsnews.head()"
   ]
  },
  {
   "cell_type": "code",
   "execution_count": 41,
   "metadata": {
    "tags": []
   },
   "outputs": [
    {
     "output_type": "stream",
     "name": "stdout",
     "text": "(10862, 3)\n"
    },
    {
     "output_type": "execute_result",
     "data": {
      "text/plain": "          0                      1  \\\n1  20100102      올해 쇄빙선 아라온호 남극 탐험   \n2  20100103          겨울철 노인 낙상 치명적   \n3  20100104     ‘유전자가위’ 에이즈 치료법 개발   \n4  20100104     KT, 올해 ‘무궁화 6호’ 발사   \n5  20100104  춥고 눈 오는 날…관절염환자 운동 요령   \n\n                                                   2  \n1  <앵커 멘트>\\r  올해는 우리 나라가 남극 대륙을 처음으로 탐사하는 해입니다.\\r...  \n2  <앵커 멘트>; 요즘 길을 걷다보면 미끄러질까봐 조심 조심 걷는 분들 많으실텐데요....  \n3  보통 사람들은 면역세포 막에 'CCR5' 단백질을 갖고 있고 이 단백질이 에이즈바이...  \n4  KT가 올해 무궁화위성 6호를 발사할 계획입니다.\\r   KT는 이르면 6월쯤 남미...  \n5  날씨가 갑자기 추워지고, 폭설이 내리면서 관절염 환자들이 겪는 바깥나들이의 고통이 ...  ",
      "text/html": "<div>\n<style scoped>\n    .dataframe tbody tr th:only-of-type {\n        vertical-align: middle;\n    }\n\n    .dataframe tbody tr th {\n        vertical-align: top;\n    }\n\n    .dataframe thead th {\n        text-align: right;\n    }\n</style>\n<table border=\"1\" class=\"dataframe\">\n  <thead>\n    <tr style=\"text-align: right;\">\n      <th></th>\n      <th>0</th>\n      <th>1</th>\n      <th>2</th>\n    </tr>\n  </thead>\n  <tbody>\n    <tr>\n      <th>1</th>\n      <td>20100102</td>\n      <td>올해 쇄빙선 아라온호 남극 탐험</td>\n      <td>&lt;앵커 멘트&gt;\\r  올해는 우리 나라가 남극 대륙을 처음으로 탐사하는 해입니다.\\r...</td>\n    </tr>\n    <tr>\n      <th>2</th>\n      <td>20100103</td>\n      <td>겨울철 노인 낙상 치명적</td>\n      <td>&lt;앵커 멘트&gt;; 요즘 길을 걷다보면 미끄러질까봐 조심 조심 걷는 분들 많으실텐데요....</td>\n    </tr>\n    <tr>\n      <th>3</th>\n      <td>20100104</td>\n      <td>‘유전자가위’ 에이즈 치료법 개발</td>\n      <td>보통 사람들은 면역세포 막에 'CCR5' 단백질을 갖고 있고 이 단백질이 에이즈바이...</td>\n    </tr>\n    <tr>\n      <th>4</th>\n      <td>20100104</td>\n      <td>KT, 올해 ‘무궁화 6호’ 발사</td>\n      <td>KT가 올해 무궁화위성 6호를 발사할 계획입니다.\\r   KT는 이르면 6월쯤 남미...</td>\n    </tr>\n    <tr>\n      <th>5</th>\n      <td>20100104</td>\n      <td>춥고 눈 오는 날…관절염환자 운동 요령</td>\n      <td>날씨가 갑자기 추워지고, 폭설이 내리면서 관절염 환자들이 겪는 바깥나들이의 고통이 ...</td>\n    </tr>\n  </tbody>\n</table>\n</div>"
     },
     "metadata": {},
     "execution_count": 41
    }
   ],
   "source": [
    "# 기사 중복 제거\n",
    "kbsnews.drop_duplicates(1, keep='first', inplace=True)\n",
    "print(kbsnews.shape)\n",
    "kbsnews.head()"
   ]
  },
  {
   "cell_type": "code",
   "execution_count": 52,
   "metadata": {
    "tags": []
   },
   "outputs": [
    {
     "output_type": "stream",
     "name": "stdout",
     "text": "(10862, 3)\n"
    },
    {
     "output_type": "execute_result",
     "data": {
      "text/plain": "          0                      1  \\\n1  20100102      올해 쇄빙선 아라온호 남극 탐험   \n2  20100103          겨울철 노인 낙상 치명적   \n3  20100104     ‘유전자가위’ 에이즈 치료법 개발   \n4  20100104     KT, 올해 ‘무궁화 6호’ 발사   \n5  20100104  춥고 눈 오는 날…관절염환자 운동 요령   \n\n                                                   2  \n1  <앵커 멘트> 올해는 우리 나라가 남극 대륙을 처음으로 탐사하는 해입니다. 쇄빙선 ...  \n2  <앵커 멘트>; 요즘 길을 걷다보면 미끄러질까봐 조심 조심 걷는 분들 많으실텐데요....  \n3  보통 사람들은 면역세포 막에 'CCR5' 단백질을 갖고 있고 이 단백질이 에이즈바이...  \n4  KT가 올해 무궁화위성 6호를 발사할 계획입니다. KT는 이르면 6월쯤 남미 기아나...  \n5  날씨가 갑자기 추워지고, 폭설이 내리면서 관절염 환자들이 겪는 바깥나들이의 고통이 ...  ",
      "text/html": "<div>\n<style scoped>\n    .dataframe tbody tr th:only-of-type {\n        vertical-align: middle;\n    }\n\n    .dataframe tbody tr th {\n        vertical-align: top;\n    }\n\n    .dataframe thead th {\n        text-align: right;\n    }\n</style>\n<table border=\"1\" class=\"dataframe\">\n  <thead>\n    <tr style=\"text-align: right;\">\n      <th></th>\n      <th>0</th>\n      <th>1</th>\n      <th>2</th>\n    </tr>\n  </thead>\n  <tbody>\n    <tr>\n      <th>1</th>\n      <td>20100102</td>\n      <td>올해 쇄빙선 아라온호 남극 탐험</td>\n      <td>&lt;앵커 멘트&gt; 올해는 우리 나라가 남극 대륙을 처음으로 탐사하는 해입니다. 쇄빙선 ...</td>\n    </tr>\n    <tr>\n      <th>2</th>\n      <td>20100103</td>\n      <td>겨울철 노인 낙상 치명적</td>\n      <td>&lt;앵커 멘트&gt;; 요즘 길을 걷다보면 미끄러질까봐 조심 조심 걷는 분들 많으실텐데요....</td>\n    </tr>\n    <tr>\n      <th>3</th>\n      <td>20100104</td>\n      <td>‘유전자가위’ 에이즈 치료법 개발</td>\n      <td>보통 사람들은 면역세포 막에 'CCR5' 단백질을 갖고 있고 이 단백질이 에이즈바이...</td>\n    </tr>\n    <tr>\n      <th>4</th>\n      <td>20100104</td>\n      <td>KT, 올해 ‘무궁화 6호’ 발사</td>\n      <td>KT가 올해 무궁화위성 6호를 발사할 계획입니다. KT는 이르면 6월쯤 남미 기아나...</td>\n    </tr>\n    <tr>\n      <th>5</th>\n      <td>20100104</td>\n      <td>춥고 눈 오는 날…관절염환자 운동 요령</td>\n      <td>날씨가 갑자기 추워지고, 폭설이 내리면서 관절염 환자들이 겪는 바깥나들이의 고통이 ...</td>\n    </tr>\n  </tbody>\n</table>\n</div>"
     },
     "metadata": {},
     "execution_count": 52
    }
   ],
   "source": [
    "# \\n 제거, 띄어쓰기 한칸으로 통일\n",
    "kbsnews[2] = kbsnews[2].str.replace('\\r', ' ').str.replace(' +', ' ')\n",
    "print(kbsnews.shape)\n",
    "kbsnews.head()"
   ]
  },
  {
   "cell_type": "code",
   "execution_count": 60,
   "metadata": {},
   "outputs": [],
   "source": [
    "kbsnews.to_csv('p_kbsnews.csv', header=False, index=False)\n",
    "# 저장후 손으로 전처리"
   ]
  },
  {
   "cell_type": "code",
   "execution_count": 78,
   "metadata": {
    "tags": []
   },
   "outputs": [
    {
     "output_type": "stream",
     "name": "stdout",
     "text": "(15328, 3)\n(10861, 3)\n"
    }
   ],
   "source": [
    "thesciencetimes = pd.read_csv('p_thesciencetimes.csv', header=None)\n",
    "print(thesciencetimes.shape)\n",
    "kbsnews = pd.read_csv('p_kbsnews.csv', header=None)\n",
    "print(kbsnews.shape)"
   ]
  },
  {
   "cell_type": "code",
   "execution_count": 79,
   "metadata": {},
   "outputs": [],
   "source": [
    "kbsnews[1] = kbsnews[1].str.replace('\\[.*?\\]', '').str.replace('\\<.*?\\>', '').str.replace(';', '').str.strip()\n",
    "kbsnews[2] = kbsnews[2].str.replace('\\[.*?\\]', '').str.replace('\\<.*?\\>', '').str.replace(';', '').str.strip()"
   ]
  },
  {
   "cell_type": "code",
   "execution_count": 80,
   "metadata": {},
   "outputs": [],
   "source": [
    "kbsnews.to_csv('p_kbsnews.csv', header=False, index=False)"
   ]
  },
  {
   "cell_type": "markdown",
   "metadata": {},
   "source": [
    "# 전체 통합"
   ]
  },
  {
   "cell_type": "code",
   "execution_count": 12,
   "metadata": {},
   "outputs": [],
   "source": [
    "thesciencetimes = pd.read_csv('p_thesciencetimes.csv', header=None)\n",
    "kbsnews = pd.read_csv('p_kbsnews.csv', header=None)\n",
    "pre_news_crawling = pd.read_csv('pre_news_crawling (1).csv', header=None)\n",
    "it_news_pre_final = pd.read_csv('IT_news_pre_final.csv')"
   ]
  },
  {
   "cell_type": "code",
   "execution_count": 14,
   "metadata": {},
   "outputs": [],
   "source": [
    "thesciencetimes = thesciencetimes[[1,2]]\n",
    "kbsnews = kbsnews[[1,2]]\n",
    "thesciencetimes.columns = ['title', 'article']\n",
    "kbsnews.columns = ['title', 'article']\n",
    "pre_news_crawling.columns = ['title', 'article']"
   ]
  },
  {
   "cell_type": "code",
   "execution_count": 19,
   "metadata": {
    "tags": []
   },
   "outputs": [
    {
     "output_type": "stream",
     "name": "stdout",
     "text": "(27322, 2)\n"
    },
    {
     "output_type": "execute_result",
     "data": {
      "text/plain": "                              title  \\\n0                미국 최초로 GM 모기 살포 실험   \n1                  공룡도 척추 디스크로 고생했다   \n2     투명 고분자 물질 레이저로 초고속 가공하는 기술 개발   \n3  기초지원연, 물속 중금속 흡착 철산화물 나노입자 섬유 개발   \n4  산업부, 중기 개발한 소재부품장비 양산 위한 성능평가 지원   \n\n                                             article  \n0  미국 남부, 플로리다 주에 길이 약 240km의 산호초 군도가 있다. 플로리다키스 ...  \n1  척추 디스크는 현대인에게서 가장 많이 발생하는 질환 중 하나다. 국민건강보험공단 등...  \n2  한국연구재단은 서울대 고승환·전누리 교수 연구팀이 투명 물질인 ‘폴리디메틸실록산'(...  \n3  한국기초과학지원연구원은 박종배 박사 연구팀이 물속 중금속을 흡착할 수 있는 철산화물...  \n4  산업통상자원부는 ‘2020년도 소재·부품·장비(소부장) 양산 성능평가 지원사업’을 ...  ",
      "text/html": "<div>\n<style scoped>\n    .dataframe tbody tr th:only-of-type {\n        vertical-align: middle;\n    }\n\n    .dataframe tbody tr th {\n        vertical-align: top;\n    }\n\n    .dataframe thead th {\n        text-align: right;\n    }\n</style>\n<table border=\"1\" class=\"dataframe\">\n  <thead>\n    <tr style=\"text-align: right;\">\n      <th></th>\n      <th>title</th>\n      <th>article</th>\n    </tr>\n  </thead>\n  <tbody>\n    <tr>\n      <th>0</th>\n      <td>미국 최초로 GM 모기 살포 실험</td>\n      <td>미국 남부, 플로리다 주에 길이 약 240km의 산호초 군도가 있다. 플로리다키스 ...</td>\n    </tr>\n    <tr>\n      <th>1</th>\n      <td>공룡도 척추 디스크로 고생했다</td>\n      <td>척추 디스크는 현대인에게서 가장 많이 발생하는 질환 중 하나다. 국민건강보험공단 등...</td>\n    </tr>\n    <tr>\n      <th>2</th>\n      <td>투명 고분자 물질 레이저로 초고속 가공하는 기술 개발</td>\n      <td>한국연구재단은 서울대 고승환·전누리 교수 연구팀이 투명 물질인 ‘폴리디메틸실록산'(...</td>\n    </tr>\n    <tr>\n      <th>3</th>\n      <td>기초지원연, 물속 중금속 흡착 철산화물 나노입자 섬유 개발</td>\n      <td>한국기초과학지원연구원은 박종배 박사 연구팀이 물속 중금속을 흡착할 수 있는 철산화물...</td>\n    </tr>\n    <tr>\n      <th>4</th>\n      <td>산업부, 중기 개발한 소재부품장비 양산 위한 성능평가 지원</td>\n      <td>산업통상자원부는 ‘2020년도 소재·부품·장비(소부장) 양산 성능평가 지원사업’을 ...</td>\n    </tr>\n  </tbody>\n</table>\n</div>"
     },
     "metadata": {},
     "execution_count": 19
    }
   ],
   "source": [
    "news_dataset = pd.concat([thesciencetimes, kbsnews, pre_news_crawling, it_news_pre_final])\n",
    "print(news_dataset.shape)\n",
    "news_dataset.head()"
   ]
  },
  {
   "cell_type": "code",
   "execution_count": 38,
   "metadata": {},
   "outputs": [],
   "source": [
    "news_dataset.to_csv('news_dataset.csv', index=False, encoding='utf-8-sig')"
   ]
  },
  {
   "cell_type": "code",
   "execution_count": 39,
   "metadata": {},
   "outputs": [
    {
     "output_type": "execute_result",
     "data": {
      "text/plain": "                              title  \\\n0                미국 최초로 GM 모기 살포 실험   \n1                  공룡도 척추 디스크로 고생했다   \n2     투명 고분자 물질 레이저로 초고속 가공하는 기술 개발   \n3  기초지원연, 물속 중금속 흡착 철산화물 나노입자 섬유 개발   \n4  산업부, 중기 개발한 소재부품장비 양산 위한 성능평가 지원   \n\n                                             article  \n0  미국 남부, 플로리다 주에 길이 약 240km의 산호초 군도가 있다. 플로리다키스 ...  \n1  척추 디스크는 현대인에게서 가장 많이 발생하는 질환 중 하나다. 국민건강보험공단 등...  \n2  한국연구재단은 서울대 고승환·전누리 교수 연구팀이 투명 물질인 ‘폴리디메틸실록산'(...  \n3  한국기초과학지원연구원은 박종배 박사 연구팀이 물속 중금속을 흡착할 수 있는 철산화물...  \n4  산업통상자원부는 ‘2020년도 소재·부품·장비(소부장) 양산 성능평가 지원사업’을 ...  ",
      "text/html": "<div>\n<style scoped>\n    .dataframe tbody tr th:only-of-type {\n        vertical-align: middle;\n    }\n\n    .dataframe tbody tr th {\n        vertical-align: top;\n    }\n\n    .dataframe thead th {\n        text-align: right;\n    }\n</style>\n<table border=\"1\" class=\"dataframe\">\n  <thead>\n    <tr style=\"text-align: right;\">\n      <th></th>\n      <th>title</th>\n      <th>article</th>\n    </tr>\n  </thead>\n  <tbody>\n    <tr>\n      <th>0</th>\n      <td>미국 최초로 GM 모기 살포 실험</td>\n      <td>미국 남부, 플로리다 주에 길이 약 240km의 산호초 군도가 있다. 플로리다키스 ...</td>\n    </tr>\n    <tr>\n      <th>1</th>\n      <td>공룡도 척추 디스크로 고생했다</td>\n      <td>척추 디스크는 현대인에게서 가장 많이 발생하는 질환 중 하나다. 국민건강보험공단 등...</td>\n    </tr>\n    <tr>\n      <th>2</th>\n      <td>투명 고분자 물질 레이저로 초고속 가공하는 기술 개발</td>\n      <td>한국연구재단은 서울대 고승환·전누리 교수 연구팀이 투명 물질인 ‘폴리디메틸실록산'(...</td>\n    </tr>\n    <tr>\n      <th>3</th>\n      <td>기초지원연, 물속 중금속 흡착 철산화물 나노입자 섬유 개발</td>\n      <td>한국기초과학지원연구원은 박종배 박사 연구팀이 물속 중금속을 흡착할 수 있는 철산화물...</td>\n    </tr>\n    <tr>\n      <th>4</th>\n      <td>산업부, 중기 개발한 소재부품장비 양산 위한 성능평가 지원</td>\n      <td>산업통상자원부는 ‘2020년도 소재·부품·장비(소부장) 양산 성능평가 지원사업’을 ...</td>\n    </tr>\n  </tbody>\n</table>\n</div>"
     },
     "metadata": {},
     "execution_count": 39
    }
   ],
   "source": [
    "news_dataset = pd.read_csv('news_dataset.csv')\n",
    "news_dataset.head()"
   ]
  },
  {
   "cell_type": "code",
   "execution_count": null,
   "metadata": {},
   "outputs": [],
   "source": []
  }
 ]
}